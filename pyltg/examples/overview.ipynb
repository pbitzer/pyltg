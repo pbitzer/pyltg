{
 "cells": [
  {
   "cell_type": "markdown",
   "id": "union-laugh",
   "metadata": {},
   "source": [
    "# Overview Usage of the Main Lightning Data Classes\n",
    "\n",
    "This notebook provides an overview of basic use of the base class `Ltg` provided by the `pyltg` package. \n",
    "\n",
    "The classes associated with lightning data all inherit this base class, so what we do here will follow\n",
    "for others. Here, we'll use Lightning Mapping Array (LMA) data and the associated class as an example.\n",
    "\n",
    "We'll assume you're already familiar with LMA data!\n",
    "\n",
    "(Note this example notebook uses a highly truncated LMA source file for demo. Real files\n",
    "can be much larger!)"
   ]
  },
  {
   "cell_type": "code",
   "execution_count": 1,
   "id": "extensive-undergraduate",
   "metadata": {},
   "outputs": [],
   "source": [
    "# First, imports we'll need\n",
    "\n",
    "from pathlib import Path\n",
    "\n",
    "import numpy as np\n",
    "import matplotlib.pyplot as plt \n",
    "\n",
    "import pyltg"
   ]
  },
  {
   "cell_type": "code",
   "execution_count": 2,
   "id": "representative-clause",
   "metadata": {},
   "outputs": [],
   "source": [
    "# We'll assume you have all the data files in one place:\n",
    "data_path = Path('./test_files').resolve()"
   ]
  },
  {
   "cell_type": "code",
   "execution_count": 3,
   "id": "dimensional-taylor",
   "metadata": {},
   "outputs": [],
   "source": [
    "# Get an LMA file and read it in\n",
    "# Note: below is the truncated test file\n",
    "_file = 'nalma_lylout_20170427_07_3600_test.dat.gz'\n",
    "\n",
    "lma = l = pyltg.LMA(data_path.joinpath(_file))"
   ]
  },
  {
   "cell_type": "code",
   "execution_count": 4,
   "id": "running-plenty",
   "metadata": {},
   "outputs": [
    {
     "data": {
      "text/plain": [
       "146870"
      ]
     },
     "execution_count": 4,
     "metadata": {},
     "output_type": "execute_result"
    }
   ],
   "source": [
    "# First, let's see how much data is here:\n",
    "lma.count"
   ]
  },
  {
   "cell_type": "markdown",
   "id": "royal-vietnamese",
   "metadata": {},
   "source": [
    "## Attributes of the data in the class"
   ]
  },
  {
   "cell_type": "code",
   "execution_count": 5,
   "id": "white-modeling",
   "metadata": {},
   "outputs": [
    {
     "data": {
      "text/plain": [
       "(array([-86.635807, -86.617291, -86.617294, ..., -85.962725, -86.458027,\n",
       "        -86.457096]),\n",
       " array([34.83322 , 34.818948, 34.819252, ..., 34.832139, 35.390233,\n",
       "        35.386952]))"
      ]
     },
     "execution_count": 5,
     "metadata": {},
     "output_type": "execute_result"
    }
   ],
   "source": [
    "# The data can be accessed via attributes:\n",
    "lma.lon, lma.lat"
   ]
  },
  {
   "cell_type": "code",
   "execution_count": 6,
   "id": "north-professor",
   "metadata": {},
   "outputs": [
    {
     "data": {
      "text/plain": [
       "array(['2017-04-27T07:06:23.277337930', '2017-04-27T07:06:23.277686307',\n",
       "       '2017-04-27T07:06:23.278111911', ...,\n",
       "       '2017-04-27T07:14:55.479446397', '2017-04-27T07:14:55.479991567',\n",
       "       '2017-04-27T07:14:55.480523937'], dtype='datetime64[ns]')"
      ]
     },
     "execution_count": 6,
     "metadata": {},
     "output_type": "execute_result"
    }
   ],
   "source": [
    "# Times are stored as np.datetime64:\n",
    "lma.time"
   ]
  },
  {
   "cell_type": "code",
   "execution_count": 7,
   "id": "intermediate-enemy",
   "metadata": {},
   "outputs": [
    {
     "data": {
      "text/plain": [
       "['time', 'lat', 'lon', 'alt', 'chi2', 'power', 'mask', 'active']"
      ]
     },
     "execution_count": 7,
     "metadata": {},
     "output_type": "execute_result"
    }
   ],
   "source": [
    "# To see all the fields stored in the data:\n",
    "lma.columns"
   ]
  },
  {
   "cell_type": "markdown",
   "id": "engaged-disaster",
   "metadata": {},
   "source": [
    "## Indexing the data"
   ]
  },
  {
   "cell_type": "code",
   "execution_count": 8,
   "id": "available-speaking",
   "metadata": {},
   "outputs": [
    {
     "data": {
      "text/html": [
       "<div>\n",
       "<style scoped>\n",
       "    .dataframe tbody tr th:only-of-type {\n",
       "        vertical-align: middle;\n",
       "    }\n",
       "\n",
       "    .dataframe tbody tr th {\n",
       "        vertical-align: top;\n",
       "    }\n",
       "\n",
       "    .dataframe thead th {\n",
       "        text-align: right;\n",
       "    }\n",
       "</style>\n",
       "<table border=\"1\" class=\"dataframe\">\n",
       "  <thead>\n",
       "    <tr style=\"text-align: right;\">\n",
       "      <th></th>\n",
       "      <th>time</th>\n",
       "      <th>lat</th>\n",
       "      <th>lon</th>\n",
       "      <th>alt</th>\n",
       "      <th>chi2</th>\n",
       "      <th>power</th>\n",
       "      <th>mask</th>\n",
       "      <th>active</th>\n",
       "    </tr>\n",
       "  </thead>\n",
       "  <tbody>\n",
       "    <tr>\n",
       "      <th>0</th>\n",
       "      <td>2017-04-27 07:06:23.277337930</td>\n",
       "      <td>34.833220</td>\n",
       "      <td>-86.635807</td>\n",
       "      <td>6.0214</td>\n",
       "      <td>0.17</td>\n",
       "      <td>5.3</td>\n",
       "      <td>0569</td>\n",
       "      <td>True</td>\n",
       "    </tr>\n",
       "    <tr>\n",
       "      <th>1</th>\n",
       "      <td>2017-04-27 07:06:23.277686307</td>\n",
       "      <td>34.818948</td>\n",
       "      <td>-86.617291</td>\n",
       "      <td>5.5959</td>\n",
       "      <td>0.41</td>\n",
       "      <td>15.9</td>\n",
       "      <td>a0e69</td>\n",
       "      <td>True</td>\n",
       "    </tr>\n",
       "    <tr>\n",
       "      <th>2</th>\n",
       "      <td>2017-04-27 07:06:23.278111911</td>\n",
       "      <td>34.819252</td>\n",
       "      <td>-86.617294</td>\n",
       "      <td>5.6902</td>\n",
       "      <td>0.55</td>\n",
       "      <td>4.3</td>\n",
       "      <td>06f1</td>\n",
       "      <td>True</td>\n",
       "    </tr>\n",
       "    <tr>\n",
       "      <th>3</th>\n",
       "      <td>2017-04-27 07:06:23.278180388</td>\n",
       "      <td>34.834255</td>\n",
       "      <td>-86.634746</td>\n",
       "      <td>6.2597</td>\n",
       "      <td>1.21</td>\n",
       "      <td>12.3</td>\n",
       "      <td>80f29</td>\n",
       "      <td>True</td>\n",
       "    </tr>\n",
       "    <tr>\n",
       "      <th>4</th>\n",
       "      <td>2017-04-27 07:06:23.278462032</td>\n",
       "      <td>34.823322</td>\n",
       "      <td>-86.612284</td>\n",
       "      <td>6.5755</td>\n",
       "      <td>0.48</td>\n",
       "      <td>4.4</td>\n",
       "      <td>80169</td>\n",
       "      <td>True</td>\n",
       "    </tr>\n",
       "    <tr>\n",
       "      <th>5</th>\n",
       "      <td>2017-04-27 07:06:23.279035247</td>\n",
       "      <td>34.998923</td>\n",
       "      <td>-86.631304</td>\n",
       "      <td>3.4193</td>\n",
       "      <td>0.58</td>\n",
       "      <td>7.9</td>\n",
       "      <td>e0e51</td>\n",
       "      <td>True</td>\n",
       "    </tr>\n",
       "    <tr>\n",
       "      <th>6</th>\n",
       "      <td>2017-04-27 07:06:23.279391113</td>\n",
       "      <td>34.819183</td>\n",
       "      <td>-86.619871</td>\n",
       "      <td>6.2681</td>\n",
       "      <td>0.96</td>\n",
       "      <td>13.4</td>\n",
       "      <td>20532</td>\n",
       "      <td>True</td>\n",
       "    </tr>\n",
       "    <tr>\n",
       "      <th>7</th>\n",
       "      <td>2017-04-27 07:06:23.279546695</td>\n",
       "      <td>34.816456</td>\n",
       "      <td>-86.616976</td>\n",
       "      <td>5.5050</td>\n",
       "      <td>1.13</td>\n",
       "      <td>5.9</td>\n",
       "      <td>80569</td>\n",
       "      <td>True</td>\n",
       "    </tr>\n",
       "    <tr>\n",
       "      <th>8</th>\n",
       "      <td>2017-04-27 07:06:23.279691031</td>\n",
       "      <td>35.000104</td>\n",
       "      <td>-86.622636</td>\n",
       "      <td>3.5877</td>\n",
       "      <td>0.51</td>\n",
       "      <td>7.3</td>\n",
       "      <td>e0e09</td>\n",
       "      <td>True</td>\n",
       "    </tr>\n",
       "  </tbody>\n",
       "</table>\n",
       "</div>"
      ],
      "text/plain": [
       "                           time        lat        lon     alt  chi2  power  \\\n",
       "0 2017-04-27 07:06:23.277337930  34.833220 -86.635807  6.0214  0.17    5.3   \n",
       "1 2017-04-27 07:06:23.277686307  34.818948 -86.617291  5.5959  0.41   15.9   \n",
       "2 2017-04-27 07:06:23.278111911  34.819252 -86.617294  5.6902  0.55    4.3   \n",
       "3 2017-04-27 07:06:23.278180388  34.834255 -86.634746  6.2597  1.21   12.3   \n",
       "4 2017-04-27 07:06:23.278462032  34.823322 -86.612284  6.5755  0.48    4.4   \n",
       "5 2017-04-27 07:06:23.279035247  34.998923 -86.631304  3.4193  0.58    7.9   \n",
       "6 2017-04-27 07:06:23.279391113  34.819183 -86.619871  6.2681  0.96   13.4   \n",
       "7 2017-04-27 07:06:23.279546695  34.816456 -86.616976  5.5050  1.13    5.9   \n",
       "8 2017-04-27 07:06:23.279691031  35.000104 -86.622636  3.5877  0.51    7.3   \n",
       "\n",
       "    mask  active  \n",
       "0   0569    True  \n",
       "1  a0e69    True  \n",
       "2   06f1    True  \n",
       "3  80f29    True  \n",
       "4  80169    True  \n",
       "5  e0e51    True  \n",
       "6  20532    True  \n",
       "7  80569    True  \n",
       "8  e0e09    True  "
      ]
     },
     "execution_count": 8,
     "metadata": {},
     "output_type": "execute_result"
    }
   ],
   "source": [
    "# If you want to get a few of the sources, we can do so through indexing.\n",
    "# Let's you want the first ten sources:\n",
    "lma[0:9]\n",
    "\n",
    "# Note that this index is relative to \"active\" data - more on this in a bit"
   ]
  },
  {
   "cell_type": "code",
   "execution_count": 9,
   "id": "chronic-clinic",
   "metadata": {},
   "outputs": [
    {
     "data": {
      "text/html": [
       "<div>\n",
       "<style scoped>\n",
       "    .dataframe tbody tr th:only-of-type {\n",
       "        vertical-align: middle;\n",
       "    }\n",
       "\n",
       "    .dataframe tbody tr th {\n",
       "        vertical-align: top;\n",
       "    }\n",
       "\n",
       "    .dataframe thead th {\n",
       "        text-align: right;\n",
       "    }\n",
       "</style>\n",
       "<table border=\"1\" class=\"dataframe\">\n",
       "  <thead>\n",
       "    <tr style=\"text-align: right;\">\n",
       "      <th></th>\n",
       "      <th>time</th>\n",
       "      <th>lat</th>\n",
       "      <th>lon</th>\n",
       "      <th>alt</th>\n",
       "      <th>chi2</th>\n",
       "      <th>power</th>\n",
       "      <th>mask</th>\n",
       "      <th>active</th>\n",
       "    </tr>\n",
       "  </thead>\n",
       "  <tbody>\n",
       "    <tr>\n",
       "      <th>0</th>\n",
       "      <td>2017-04-27 07:06:23.277337930</td>\n",
       "      <td>34.833220</td>\n",
       "      <td>-86.635807</td>\n",
       "      <td>6.0214</td>\n",
       "      <td>0.17</td>\n",
       "      <td>5.3</td>\n",
       "      <td>0569</td>\n",
       "      <td>True</td>\n",
       "    </tr>\n",
       "    <tr>\n",
       "      <th>1</th>\n",
       "      <td>2017-04-27 07:06:23.277686307</td>\n",
       "      <td>34.818948</td>\n",
       "      <td>-86.617291</td>\n",
       "      <td>5.5959</td>\n",
       "      <td>0.41</td>\n",
       "      <td>15.9</td>\n",
       "      <td>a0e69</td>\n",
       "      <td>True</td>\n",
       "    </tr>\n",
       "    <tr>\n",
       "      <th>2</th>\n",
       "      <td>2017-04-27 07:06:23.278111911</td>\n",
       "      <td>34.819252</td>\n",
       "      <td>-86.617294</td>\n",
       "      <td>5.6902</td>\n",
       "      <td>0.55</td>\n",
       "      <td>4.3</td>\n",
       "      <td>06f1</td>\n",
       "      <td>True</td>\n",
       "    </tr>\n",
       "    <tr>\n",
       "      <th>3</th>\n",
       "      <td>2017-04-27 07:06:23.278180388</td>\n",
       "      <td>34.834255</td>\n",
       "      <td>-86.634746</td>\n",
       "      <td>6.2597</td>\n",
       "      <td>1.21</td>\n",
       "      <td>12.3</td>\n",
       "      <td>80f29</td>\n",
       "      <td>True</td>\n",
       "    </tr>\n",
       "    <tr>\n",
       "      <th>4</th>\n",
       "      <td>2017-04-27 07:06:23.278462032</td>\n",
       "      <td>34.823322</td>\n",
       "      <td>-86.612284</td>\n",
       "      <td>6.5755</td>\n",
       "      <td>0.48</td>\n",
       "      <td>4.4</td>\n",
       "      <td>80169</td>\n",
       "      <td>True</td>\n",
       "    </tr>\n",
       "  </tbody>\n",
       "</table>\n",
       "</div>"
      ],
      "text/plain": [
       "                           time        lat        lon     alt  chi2  power  \\\n",
       "0 2017-04-27 07:06:23.277337930  34.833220 -86.635807  6.0214  0.17    5.3   \n",
       "1 2017-04-27 07:06:23.277686307  34.818948 -86.617291  5.5959  0.41   15.9   \n",
       "2 2017-04-27 07:06:23.278111911  34.819252 -86.617294  5.6902  0.55    4.3   \n",
       "3 2017-04-27 07:06:23.278180388  34.834255 -86.634746  6.2597  1.21   12.3   \n",
       "4 2017-04-27 07:06:23.278462032  34.823322 -86.612284  6.5755  0.48    4.4   \n",
       "\n",
       "    mask  active  \n",
       "0   0569    True  \n",
       "1  a0e69    True  \n",
       "2   06f1    True  \n",
       "3  80f29    True  \n",
       "4  80169    True  "
      ]
     },
     "execution_count": 9,
     "metadata": {},
     "output_type": "execute_result"
    }
   ],
   "source": [
    "# For a quick look at the beginning of the data:\n",
    "lma.head()"
   ]
  },
  {
   "cell_type": "markdown",
   "id": "identical-tyler",
   "metadata": {},
   "source": [
    "From these, you might be able to guess the underlying data is stored as a Pandas Dataframe.\n",
    "But, the class is built in a way to make accessing a little easier via either \"column\" or \"row\"."
   ]
  },
  {
   "cell_type": "markdown",
   "id": "signal-wayne",
   "metadata": {},
   "source": [
    "## Limiting the \"active\" data"
   ]
  },
  {
   "cell_type": "code",
   "execution_count": 10,
   "id": "spare-carry",
   "metadata": {},
   "outputs": [
    {
     "data": {
      "text/plain": [
       "1150"
      ]
     },
     "execution_count": 10,
     "metadata": {},
     "output_type": "execute_result"
    }
   ],
   "source": [
    "# Let's say you're only interested in a subset of the data, i.e., \n",
    "# you want to limit the data so that you're only looking at sources \n",
    "# between certain latitude, longitude, and altitude ranges\n",
    "cnt = lma.limit(lat=[34.5, 34.6], lon=[-87.7, -87.5], alt=[0, 25])  # altitude is in km\n",
    "cnt  # should be 1150"
   ]
  },
  {
   "cell_type": "code",
   "execution_count": 11,
   "id": "crazy-warrant",
   "metadata": {},
   "outputs": [
    {
     "data": {
      "text/plain": [
       "(1150,\n",
       " array([34.507957, 34.502966, 34.501654, ..., 34.521365, 34.515423,\n",
       "        34.523335]))"
      ]
     },
     "execution_count": 11,
     "metadata": {},
     "output_type": "execute_result"
    }
   ],
   "source": [
    "# The limiting of the data doesn't actually get rid of anything. What we do is\n",
    "# mark the data within the limits as \"active\". All data retrieval\n",
    "# is relative to the \"active\" data:\n",
    "lma.count, lma.lat"
   ]
  },
  {
   "cell_type": "code",
   "execution_count": 12,
   "id": "possible-portable",
   "metadata": {},
   "outputs": [
    {
     "data": {
      "text/html": [
       "<div>\n",
       "<style scoped>\n",
       "    .dataframe tbody tr th:only-of-type {\n",
       "        vertical-align: middle;\n",
       "    }\n",
       "\n",
       "    .dataframe tbody tr th {\n",
       "        vertical-align: top;\n",
       "    }\n",
       "\n",
       "    .dataframe thead th {\n",
       "        text-align: right;\n",
       "    }\n",
       "</style>\n",
       "<table border=\"1\" class=\"dataframe\">\n",
       "  <thead>\n",
       "    <tr style=\"text-align: right;\">\n",
       "      <th></th>\n",
       "      <th>time</th>\n",
       "      <th>lat</th>\n",
       "      <th>lon</th>\n",
       "      <th>alt</th>\n",
       "      <th>chi2</th>\n",
       "      <th>power</th>\n",
       "      <th>mask</th>\n",
       "      <th>active</th>\n",
       "    </tr>\n",
       "  </thead>\n",
       "  <tbody>\n",
       "    <tr>\n",
       "      <th>15250</th>\n",
       "      <td>2017-04-27 07:07:00.463361328</td>\n",
       "      <td>34.507957</td>\n",
       "      <td>-87.651415</td>\n",
       "      <td>12.7117</td>\n",
       "      <td>0.70</td>\n",
       "      <td>19.1</td>\n",
       "      <td>a0560</td>\n",
       "      <td>True</td>\n",
       "    </tr>\n",
       "    <tr>\n",
       "      <th>25712</th>\n",
       "      <td>2017-04-27 07:07:46.169049951</td>\n",
       "      <td>34.502966</td>\n",
       "      <td>-87.657740</td>\n",
       "      <td>6.8255</td>\n",
       "      <td>0.84</td>\n",
       "      <td>13.2</td>\n",
       "      <td>201e1</td>\n",
       "      <td>True</td>\n",
       "    </tr>\n",
       "    <tr>\n",
       "      <th>25717</th>\n",
       "      <td>2017-04-27 07:07:46.171560391</td>\n",
       "      <td>34.501654</td>\n",
       "      <td>-87.689171</td>\n",
       "      <td>8.6804</td>\n",
       "      <td>0.05</td>\n",
       "      <td>11.1</td>\n",
       "      <td>a0a41</td>\n",
       "      <td>True</td>\n",
       "    </tr>\n",
       "    <tr>\n",
       "      <th>25728</th>\n",
       "      <td>2017-04-27 07:07:46.177223869</td>\n",
       "      <td>34.516613</td>\n",
       "      <td>-87.621251</td>\n",
       "      <td>9.6627</td>\n",
       "      <td>0.58</td>\n",
       "      <td>15.4</td>\n",
       "      <td>80a62</td>\n",
       "      <td>True</td>\n",
       "    </tr>\n",
       "    <tr>\n",
       "      <th>32408</th>\n",
       "      <td>2017-04-27 07:08:11.940670888</td>\n",
       "      <td>34.528994</td>\n",
       "      <td>-87.539317</td>\n",
       "      <td>19.2736</td>\n",
       "      <td>1.87</td>\n",
       "      <td>12.2</td>\n",
       "      <td>0e23</td>\n",
       "      <td>True</td>\n",
       "    </tr>\n",
       "    <tr>\n",
       "      <th>38726</th>\n",
       "      <td>2017-04-27 07:08:53.271070055</td>\n",
       "      <td>34.564384</td>\n",
       "      <td>-87.640681</td>\n",
       "      <td>21.9320</td>\n",
       "      <td>1.79</td>\n",
       "      <td>16.4</td>\n",
       "      <td>40760</td>\n",
       "      <td>True</td>\n",
       "    </tr>\n",
       "    <tr>\n",
       "      <th>38776</th>\n",
       "      <td>2017-04-27 07:08:53.319458322</td>\n",
       "      <td>34.542314</td>\n",
       "      <td>-87.693729</td>\n",
       "      <td>13.8369</td>\n",
       "      <td>0.69</td>\n",
       "      <td>12.0</td>\n",
       "      <td>a0542</td>\n",
       "      <td>True</td>\n",
       "    </tr>\n",
       "    <tr>\n",
       "      <th>38835</th>\n",
       "      <td>2017-04-27 07:08:53.356574230</td>\n",
       "      <td>34.510588</td>\n",
       "      <td>-87.666394</td>\n",
       "      <td>9.5010</td>\n",
       "      <td>1.87</td>\n",
       "      <td>1.8</td>\n",
       "      <td>a008b</td>\n",
       "      <td>True</td>\n",
       "    </tr>\n",
       "    <tr>\n",
       "      <th>38838</th>\n",
       "      <td>2017-04-27 07:08:53.357469297</td>\n",
       "      <td>34.501379</td>\n",
       "      <td>-87.677583</td>\n",
       "      <td>8.5024</td>\n",
       "      <td>1.19</td>\n",
       "      <td>23.7</td>\n",
       "      <td>e0b23</td>\n",
       "      <td>True</td>\n",
       "    </tr>\n",
       "  </tbody>\n",
       "</table>\n",
       "</div>"
      ],
      "text/plain": [
       "                               time        lat        lon      alt  chi2  \\\n",
       "15250 2017-04-27 07:07:00.463361328  34.507957 -87.651415  12.7117  0.70   \n",
       "25712 2017-04-27 07:07:46.169049951  34.502966 -87.657740   6.8255  0.84   \n",
       "25717 2017-04-27 07:07:46.171560391  34.501654 -87.689171   8.6804  0.05   \n",
       "25728 2017-04-27 07:07:46.177223869  34.516613 -87.621251   9.6627  0.58   \n",
       "32408 2017-04-27 07:08:11.940670888  34.528994 -87.539317  19.2736  1.87   \n",
       "38726 2017-04-27 07:08:53.271070055  34.564384 -87.640681  21.9320  1.79   \n",
       "38776 2017-04-27 07:08:53.319458322  34.542314 -87.693729  13.8369  0.69   \n",
       "38835 2017-04-27 07:08:53.356574230  34.510588 -87.666394   9.5010  1.87   \n",
       "38838 2017-04-27 07:08:53.357469297  34.501379 -87.677583   8.5024  1.19   \n",
       "\n",
       "       power   mask  active  \n",
       "15250   19.1  a0560    True  \n",
       "25712   13.2  201e1    True  \n",
       "25717   11.1  a0a41    True  \n",
       "25728   15.4  80a62    True  \n",
       "32408   12.2   0e23    True  \n",
       "38726   16.4  40760    True  \n",
       "38776   12.0  a0542    True  \n",
       "38835    1.8  a008b    True  \n",
       "38838   23.7  e0b23    True  "
      ]
     },
     "execution_count": 12,
     "metadata": {},
     "output_type": "execute_result"
    }
   ],
   "source": [
    "# Ditto for indexing:\n",
    "lma[0:9]"
   ]
  },
  {
   "cell_type": "markdown",
   "id": "informal-richards",
   "metadata": {},
   "source": [
    "## Plotting"
   ]
  },
  {
   "cell_type": "code",
   "execution_count": 13,
   "id": "flying-acting",
   "metadata": {},
   "outputs": [
    {
     "data": {
      "image/png": "[encoded data removed]",
      "text/plain": [
       "<Figure size 432x288 with 1 Axes>"
      ]
     },
     "metadata": {
      "needs_background": "light"
     },
     "output_type": "display_data"
    }
   ],
   "source": [
    "# With this, it's easy to make some plots (we'll just do basic plots, not maps):\n",
    "fig, ax = plt.subplots() \n",
    "_ = ax.scatter(lma.lon, lma.lat, marker='.')\n",
    "\n",
    "# Of course, you do fancier things, like density plots. But we'll\n",
    "# save that as an exercise for the reader ;-)"
   ]
  },
  {
   "cell_type": "code",
   "execution_count": 14,
   "id": "photographic-annotation",
   "metadata": {},
   "outputs": [
    {
     "data": {
      "image/png": "[encoded data removed]",
      "text/plain": [
       "<Figure size 432x288 with 1 Axes>"
      ]
     },
     "metadata": {
      "needs_background": "light"
     },
     "output_type": "display_data"
    }
   ],
   "source": [
    "# If you ever need to get all the data after limiting, you can do so via the underlying data.\n",
    "# Remember, we don't throw anything out.\n",
    "\n",
    "# (This might take a moment - we're going to scatter plot >140 thousand points!)\n",
    "fig, ax = plt.subplots() \n",
    "_ = ax.scatter(lma.data.lon, lma.data.lat, marker='.')  # all the data\n",
    "_ = ax.scatter(lma.lon, lma.lat, marker='.')  # the data within limits - the \"active\" data\n"
   ]
  },
  {
   "cell_type": "code",
   "execution_count": 15,
   "id": "twenty-luxembourg",
   "metadata": {},
   "outputs": [
    {
     "data": {
      "text/plain": [
       "146870"
      ]
     },
     "execution_count": 15,
     "metadata": {},
     "output_type": "execute_result"
    }
   ],
   "source": [
    "# Let's say you want reset your limits, i.e., the active data. Easy peasy:\n",
    "lma.reset_active()\n",
    "lma.count"
   ]
  },
  {
   "cell_type": "markdown",
   "id": "requested-basement",
   "metadata": {},
   "source": [
    "### Plotting times"
   ]
  },
  {
   "cell_type": "code",
   "execution_count": 16,
   "id": "surgical-grammar",
   "metadata": {},
   "outputs": [
    {
     "data": {
      "text/plain": [
       "47941"
      ]
     },
     "execution_count": 16,
     "metadata": {},
     "output_type": "execute_result"
    }
   ],
   "source": [
    "# Now, let's limit again, but focus on a 3 minute period:\n",
    "t0 = np.datetime64('2017-04-27T07:10:00', 'ns')\n",
    "t1 = np.datetime64('2017-04-27T07:13:00', 'ns')\n",
    "\n",
    "# An important note is that the time limits need to be np.datetime64[ns] (the units are important!)\n",
    "cnt = lma.limit(time=[t0, t1], alt=[0, 25])  # Go ahead and limit altitude too!\n",
    "cnt"
   ]
  },
  {
   "cell_type": "code",
   "execution_count": 17,
   "id": "aerial-sender",
   "metadata": {},
   "outputs": [
    {
     "data": {
      "image/png": "[encoded data removed]",
      "text/plain": [
       "<Figure size 432x288 with 1 Axes>"
      ]
     },
     "metadata": {
      "needs_background": "light"
     },
     "output_type": "display_data"
    }
   ],
   "source": [
    "# Making a time plot with Matplotlib is, um, let's say problematic. Especially when\n",
    "# dealing with data like this that spans less than a day. The `pytlg` package provides \n",
    "# a way to make plots a little easier. \n",
    "\n",
    "# But, we still rely on Matplotlib, and it doesn't handle np.datetime very well in general.\n",
    "# So, we'll cast it to an 64 bit integer. Alternatively, you can cast to a datetime.date.\n",
    "# See https://matplotlib.org/3.1.1/gallery/recipes/common_date_problems.html\n",
    "\n",
    "from pyltg.utilities import plotting as ltg_plt\n",
    "\n",
    "fig, ax = plt.subplots()\n",
    "_ = ax.scatter(lma.time.astype('int64'), lma.alt, marker='.')\n",
    "ltg_plt.time_axis(ax.xaxis)\n",
    "_ = ax.set_ylabel('Altitude (km)')\n"
   ]
  },
  {
   "cell_type": "markdown",
   "id": "removable-teaching",
   "metadata": {},
   "source": [
    "## Manipulating the data\n",
    "\n",
    "Basically, you shouldn't do this! But if you try, you won't get the expected results."
   ]
  },
  {
   "cell_type": "code",
   "execution_count": 18,
   "id": "constitutional-might",
   "metadata": {},
   "outputs": [
    {
     "data": {
      "text/plain": [
       "time      2017-04-27 07:10:00.001348037\n",
       "lat                             34.2786\n",
       "lon                            -86.9348\n",
       "alt                              8.7491\n",
       "chi2                               1.55\n",
       "power                              -1.1\n",
       "mask                              20362\n",
       "active                             True\n",
       "Name: 57802, dtype: object"
      ]
     },
     "execution_count": 18,
     "metadata": {},
     "output_type": "execute_result"
    }
   ],
   "source": [
    "lma[0].lat = 34.0\n",
    "lma[0]  # Silently ignored"
   ]
  },
  {
   "cell_type": "code",
   "execution_count": 19,
   "id": "posted-weekly",
   "metadata": {},
   "outputs": [
    {
     "data": {
      "text/plain": [
       "time      2017-04-27 07:10:00.001348037\n",
       "lat                             34.2786\n",
       "lon                            -86.9348\n",
       "alt                              8.7491\n",
       "chi2                               1.55\n",
       "power                              -1.1\n",
       "mask                              20362\n",
       "active                             True\n",
       "Name: 57802, dtype: object"
      ]
     },
     "execution_count": 19,
     "metadata": {},
     "output_type": "execute_result"
    }
   ],
   "source": [
    "lma.lat[0] = 34.0\n",
    "lma[0]  # Also silently ignored"
   ]
  },
  {
   "cell_type": "code",
   "execution_count": 20,
   "id": "banned-uncle",
   "metadata": {},
   "outputs": [],
   "source": [
    "# If you want to do something with the data, you'll have to get it \"out\" of the class:\n",
    "ltg_data = lma.get_active()  # returns a copy of the data, as a Pandas Dataframe"
   ]
  },
  {
   "cell_type": "code",
   "execution_count": 21,
   "id": "measured-glenn",
   "metadata": {},
   "outputs": [
    {
     "data": {
      "text/plain": [
       "34.0"
      ]
     },
     "execution_count": 21,
     "metadata": {},
     "output_type": "execute_result"
    }
   ],
   "source": [
    "# Because it's a Dataframe, you won't be able to do this anymore:\n",
    "# ltg_data[0]\n",
    "\n",
    "# But you can manipulate it like you would any Dataframe:\n",
    "ltg_data.loc[0, 'lat'] = 34.0\n",
    "ltg_data.lat[0]"
   ]
  }
 ],
 "metadata": {
  "kernelspec": {
   "display_name": "Python 3",
   "language": "python",
   "name": "python3"
  },
  "language_info": {
   "codemirror_mode": {
    "name": "ipython",
    "version": 3
   },
   "file_extension": ".py",
   "mimetype": "text/x-python",
   "name": "python",
   "nbconvert_exporter": "python",
   "pygments_lexer": "ipython3",
   "version": "3.6.12"
  }
 },
 "nbformat": 4,
 "nbformat_minor": 5
}
