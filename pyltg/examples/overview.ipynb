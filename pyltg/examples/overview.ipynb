{
 "cells": [
  {
   "cell_type": "markdown",
   "id": "useful-fluid",
   "metadata": {},
   "source": [
    "# Overview Usage of the Main Lightning Data Classes\n",
    "\n",
    "This notebook provides an overview of basic use of the base class `Ltg` provided by the `pyltg` package. \n",
    "\n",
    "The classes associated with lightning data all inherit this base class, so what we do here will follow\n",
    "for others. Here, we'll use Lightning Mapping Array (LMA) data and the associated class as an example.\n",
    "\n",
    "We'll assume you're already familiar with LMA data!"
   ]
  },
  {
   "cell_type": "code",
   "execution_count": 1,
   "id": "invalid-throw",
   "metadata": {},
   "outputs": [],
   "source": [
    "# First, imports we'll need\n",
    "\n",
    "from pathlib import Path\n",
    "\n",
    "import numpy as np\n",
    "import matplotlib.pyplot as plt \n",
    "\n",
    "import pyltg"
   ]
  },
  {
   "cell_type": "code",
   "execution_count": 2,
   "id": "valued-inclusion",
   "metadata": {},
   "outputs": [],
   "source": [
    "# We'll assume you have all the data files in one place:\n",
    "data_path = Path('./test_files').resolve()"
   ]
  },
  {
   "cell_type": "code",
   "execution_count": 3,
   "id": "passive-trauma",
   "metadata": {},
   "outputs": [],
   "source": [
    "# Get an LMA file and read it in\n",
    "_file = 'nalma_lylout_20170427_07_3600.dat.gz'\n",
    "\n",
    "lma = l = pyltg.LMA(data_path.joinpath(_file))"
   ]
  },
  {
   "cell_type": "code",
   "execution_count": 4,
   "id": "egyptian-library",
   "metadata": {},
   "outputs": [
    {
     "data": {
      "text/plain": [
       "1639279"
      ]
     },
     "execution_count": 4,
     "metadata": {},
     "output_type": "execute_result"
    }
   ],
   "source": [
    "# First, let's see how much data is here:\n",
    "lma.count"
   ]
  },
  {
   "cell_type": "markdown",
   "id": "iraqi-andorra",
   "metadata": {},
   "source": [
    "## Attributes of the data in the class"
   ]
  },
  {
   "cell_type": "code",
   "execution_count": 5,
   "id": "intimate-starter",
   "metadata": {},
   "outputs": [
    {
     "data": {
      "text/plain": [
       "(array([-86.464321, -86.469929, -86.448781, ..., -87.148575, -87.445523,\n",
       "        -87.445649]),\n",
       " array([34.455917, 34.459653, 34.431848, ..., 34.465879, 33.856113,\n",
       "        33.826251]))"
      ]
     },
     "execution_count": 5,
     "metadata": {},
     "output_type": "execute_result"
    }
   ],
   "source": [
    "# The data can be accessed via attributes:\n",
    "lma.lon, lma.lat"
   ]
  },
  {
   "cell_type": "code",
   "execution_count": 6,
   "id": "regular-toolbox",
   "metadata": {},
   "outputs": [
    {
     "data": {
      "text/plain": [
       "array(['2017-04-27T07:00:00.015569122', '2017-04-27T07:00:00.034944802',\n",
       "       '2017-04-27T07:00:00.067639067', ...,\n",
       "       '2017-04-27T07:59:59.783588237', '2017-04-27T07:59:59.818498185',\n",
       "       '2017-04-27T07:59:59.927987161'], dtype='datetime64[ns]')"
      ]
     },
     "execution_count": 6,
     "metadata": {},
     "output_type": "execute_result"
    }
   ],
   "source": [
    "# Times are stored as np.datetime64:\n",
    "lma.time"
   ]
  },
  {
   "cell_type": "code",
   "execution_count": 7,
   "id": "behind-swedish",
   "metadata": {},
   "outputs": [
    {
     "data": {
      "text/plain": [
       "['time', 'lat', 'lon', 'alt', 'chi2', 'power', 'mask', 'active']"
      ]
     },
     "execution_count": 7,
     "metadata": {},
     "output_type": "execute_result"
    }
   ],
   "source": [
    "# To see all the fields stored in the data:\n",
    "lma.columns"
   ]
  },
  {
   "cell_type": "markdown",
   "id": "parallel-guitar",
   "metadata": {},
   "source": [
    "## Indexing the data"
   ]
  },
  {
   "cell_type": "code",
   "execution_count": 8,
   "id": "democratic-bishop",
   "metadata": {},
   "outputs": [
    {
     "data": {
      "text/html": [
       "<div>\n",
       "<style scoped>\n",
       "    .dataframe tbody tr th:only-of-type {\n",
       "        vertical-align: middle;\n",
       "    }\n",
       "\n",
       "    .dataframe tbody tr th {\n",
       "        vertical-align: top;\n",
       "    }\n",
       "\n",
       "    .dataframe thead th {\n",
       "        text-align: right;\n",
       "    }\n",
       "</style>\n",
       "<table border=\"1\" class=\"dataframe\">\n",
       "  <thead>\n",
       "    <tr style=\"text-align: right;\">\n",
       "      <th></th>\n",
       "      <th>time</th>\n",
       "      <th>lat</th>\n",
       "      <th>lon</th>\n",
       "      <th>alt</th>\n",
       "      <th>chi2</th>\n",
       "      <th>power</th>\n",
       "      <th>mask</th>\n",
       "      <th>active</th>\n",
       "    </tr>\n",
       "  </thead>\n",
       "  <tbody>\n",
       "    <tr>\n",
       "      <th>0</th>\n",
       "      <td>2017-04-27 07:00:00.015569122</td>\n",
       "      <td>34.455917</td>\n",
       "      <td>-86.464321</td>\n",
       "      <td>7.5135</td>\n",
       "      <td>0.04</td>\n",
       "      <td>-4.8</td>\n",
       "      <td>e0141</td>\n",
       "      <td>True</td>\n",
       "    </tr>\n",
       "    <tr>\n",
       "      <th>1</th>\n",
       "      <td>2017-04-27 07:00:00.034944802</td>\n",
       "      <td>34.459653</td>\n",
       "      <td>-86.469929</td>\n",
       "      <td>7.9389</td>\n",
       "      <td>1.68</td>\n",
       "      <td>7.2</td>\n",
       "      <td>0b58</td>\n",
       "      <td>True</td>\n",
       "    </tr>\n",
       "    <tr>\n",
       "      <th>2</th>\n",
       "      <td>2017-04-27 07:00:00.067639067</td>\n",
       "      <td>34.431848</td>\n",
       "      <td>-86.448781</td>\n",
       "      <td>7.8235</td>\n",
       "      <td>0.23</td>\n",
       "      <td>-4.8</td>\n",
       "      <td>e0340</td>\n",
       "      <td>True</td>\n",
       "    </tr>\n",
       "    <tr>\n",
       "      <th>3</th>\n",
       "      <td>2017-04-27 07:00:00.400037661</td>\n",
       "      <td>32.005951</td>\n",
       "      <td>-88.310646</td>\n",
       "      <td>14.3979</td>\n",
       "      <td>0.22</td>\n",
       "      <td>10.8</td>\n",
       "      <td>e03c0</td>\n",
       "      <td>True</td>\n",
       "    </tr>\n",
       "    <tr>\n",
       "      <th>4</th>\n",
       "      <td>2017-04-27 07:00:00.425540159</td>\n",
       "      <td>32.003298</td>\n",
       "      <td>-88.350469</td>\n",
       "      <td>9.5435</td>\n",
       "      <td>0.91</td>\n",
       "      <td>20.0</td>\n",
       "      <td>e02e0</td>\n",
       "      <td>True</td>\n",
       "    </tr>\n",
       "    <tr>\n",
       "      <th>5</th>\n",
       "      <td>2017-04-27 07:00:00.730725357</td>\n",
       "      <td>34.487718</td>\n",
       "      <td>-86.959207</td>\n",
       "      <td>3.6695</td>\n",
       "      <td>0.41</td>\n",
       "      <td>10.2</td>\n",
       "      <td>a0169</td>\n",
       "      <td>True</td>\n",
       "    </tr>\n",
       "    <tr>\n",
       "      <th>6</th>\n",
       "      <td>2017-04-27 07:00:00.730809147</td>\n",
       "      <td>34.488455</td>\n",
       "      <td>-86.957782</td>\n",
       "      <td>3.8432</td>\n",
       "      <td>0.63</td>\n",
       "      <td>10.9</td>\n",
       "      <td>c0a68</td>\n",
       "      <td>True</td>\n",
       "    </tr>\n",
       "    <tr>\n",
       "      <th>7</th>\n",
       "      <td>2017-04-27 07:00:00.730940245</td>\n",
       "      <td>34.491870</td>\n",
       "      <td>-86.958382</td>\n",
       "      <td>3.3057</td>\n",
       "      <td>0.54</td>\n",
       "      <td>20.1</td>\n",
       "      <td>a02e8</td>\n",
       "      <td>True</td>\n",
       "    </tr>\n",
       "    <tr>\n",
       "      <th>8</th>\n",
       "      <td>2017-04-27 07:00:00.731614713</td>\n",
       "      <td>34.484965</td>\n",
       "      <td>-86.960463</td>\n",
       "      <td>3.1361</td>\n",
       "      <td>0.32</td>\n",
       "      <td>14.8</td>\n",
       "      <td>40b68</td>\n",
       "      <td>True</td>\n",
       "    </tr>\n",
       "  </tbody>\n",
       "</table>\n",
       "</div>"
      ],
      "text/plain": [
       "                           time        lat        lon      alt  chi2  power  \\\n",
       "0 2017-04-27 07:00:00.015569122  34.455917 -86.464321   7.5135  0.04   -4.8   \n",
       "1 2017-04-27 07:00:00.034944802  34.459653 -86.469929   7.9389  1.68    7.2   \n",
       "2 2017-04-27 07:00:00.067639067  34.431848 -86.448781   7.8235  0.23   -4.8   \n",
       "3 2017-04-27 07:00:00.400037661  32.005951 -88.310646  14.3979  0.22   10.8   \n",
       "4 2017-04-27 07:00:00.425540159  32.003298 -88.350469   9.5435  0.91   20.0   \n",
       "5 2017-04-27 07:00:00.730725357  34.487718 -86.959207   3.6695  0.41   10.2   \n",
       "6 2017-04-27 07:00:00.730809147  34.488455 -86.957782   3.8432  0.63   10.9   \n",
       "7 2017-04-27 07:00:00.730940245  34.491870 -86.958382   3.3057  0.54   20.1   \n",
       "8 2017-04-27 07:00:00.731614713  34.484965 -86.960463   3.1361  0.32   14.8   \n",
       "\n",
       "    mask  active  \n",
       "0  e0141    True  \n",
       "1   0b58    True  \n",
       "2  e0340    True  \n",
       "3  e03c0    True  \n",
       "4  e02e0    True  \n",
       "5  a0169    True  \n",
       "6  c0a68    True  \n",
       "7  a02e8    True  \n",
       "8  40b68    True  "
      ]
     },
     "execution_count": 8,
     "metadata": {},
     "output_type": "execute_result"
    }
   ],
   "source": [
    "# If you want to get a few of the sources, we can do so through indexing.\n",
    "# Let's you want the first ten sources:\n",
    "lma[0:9]\n",
    "\n",
    "# Note that this index is relative to \"active\" data - more on this in a bit"
   ]
  },
  {
   "cell_type": "code",
   "execution_count": 9,
   "id": "metropolitan-dodge",
   "metadata": {},
   "outputs": [
    {
     "data": {
      "text/html": [
       "<div>\n",
       "<style scoped>\n",
       "    .dataframe tbody tr th:only-of-type {\n",
       "        vertical-align: middle;\n",
       "    }\n",
       "\n",
       "    .dataframe tbody tr th {\n",
       "        vertical-align: top;\n",
       "    }\n",
       "\n",
       "    .dataframe thead th {\n",
       "        text-align: right;\n",
       "    }\n",
       "</style>\n",
       "<table border=\"1\" class=\"dataframe\">\n",
       "  <thead>\n",
       "    <tr style=\"text-align: right;\">\n",
       "      <th></th>\n",
       "      <th>time</th>\n",
       "      <th>lat</th>\n",
       "      <th>lon</th>\n",
       "      <th>alt</th>\n",
       "      <th>chi2</th>\n",
       "      <th>power</th>\n",
       "      <th>mask</th>\n",
       "      <th>active</th>\n",
       "    </tr>\n",
       "  </thead>\n",
       "  <tbody>\n",
       "    <tr>\n",
       "      <th>0</th>\n",
       "      <td>2017-04-27 07:00:00.015569122</td>\n",
       "      <td>34.455917</td>\n",
       "      <td>-86.464321</td>\n",
       "      <td>7.5135</td>\n",
       "      <td>0.04</td>\n",
       "      <td>-4.8</td>\n",
       "      <td>e0141</td>\n",
       "      <td>True</td>\n",
       "    </tr>\n",
       "    <tr>\n",
       "      <th>1</th>\n",
       "      <td>2017-04-27 07:00:00.034944802</td>\n",
       "      <td>34.459653</td>\n",
       "      <td>-86.469929</td>\n",
       "      <td>7.9389</td>\n",
       "      <td>1.68</td>\n",
       "      <td>7.2</td>\n",
       "      <td>0b58</td>\n",
       "      <td>True</td>\n",
       "    </tr>\n",
       "    <tr>\n",
       "      <th>2</th>\n",
       "      <td>2017-04-27 07:00:00.067639067</td>\n",
       "      <td>34.431848</td>\n",
       "      <td>-86.448781</td>\n",
       "      <td>7.8235</td>\n",
       "      <td>0.23</td>\n",
       "      <td>-4.8</td>\n",
       "      <td>e0340</td>\n",
       "      <td>True</td>\n",
       "    </tr>\n",
       "    <tr>\n",
       "      <th>3</th>\n",
       "      <td>2017-04-27 07:00:00.400037661</td>\n",
       "      <td>32.005951</td>\n",
       "      <td>-88.310646</td>\n",
       "      <td>14.3979</td>\n",
       "      <td>0.22</td>\n",
       "      <td>10.8</td>\n",
       "      <td>e03c0</td>\n",
       "      <td>True</td>\n",
       "    </tr>\n",
       "    <tr>\n",
       "      <th>4</th>\n",
       "      <td>2017-04-27 07:00:00.425540159</td>\n",
       "      <td>32.003298</td>\n",
       "      <td>-88.350469</td>\n",
       "      <td>9.5435</td>\n",
       "      <td>0.91</td>\n",
       "      <td>20.0</td>\n",
       "      <td>e02e0</td>\n",
       "      <td>True</td>\n",
       "    </tr>\n",
       "  </tbody>\n",
       "</table>\n",
       "</div>"
      ],
      "text/plain": [
       "                           time        lat        lon      alt  chi2  power  \\\n",
       "0 2017-04-27 07:00:00.015569122  34.455917 -86.464321   7.5135  0.04   -4.8   \n",
       "1 2017-04-27 07:00:00.034944802  34.459653 -86.469929   7.9389  1.68    7.2   \n",
       "2 2017-04-27 07:00:00.067639067  34.431848 -86.448781   7.8235  0.23   -4.8   \n",
       "3 2017-04-27 07:00:00.400037661  32.005951 -88.310646  14.3979  0.22   10.8   \n",
       "4 2017-04-27 07:00:00.425540159  32.003298 -88.350469   9.5435  0.91   20.0   \n",
       "\n",
       "    mask  active  \n",
       "0  e0141    True  \n",
       "1   0b58    True  \n",
       "2  e0340    True  \n",
       "3  e03c0    True  \n",
       "4  e02e0    True  "
      ]
     },
     "execution_count": 9,
     "metadata": {},
     "output_type": "execute_result"
    }
   ],
   "source": [
    "# For a quick look at the beginning of the data:\n",
    "lma.head()"
   ]
  },
  {
   "cell_type": "markdown",
   "id": "violent-commerce",
   "metadata": {},
   "source": [
    "From these, you might be able to guess the underlying data is stored as a Pandas Dataframe.\n",
    "But, the class is built in a way to make accessing a little easier via either \"column\" or \"row\"."
   ]
  },
  {
   "cell_type": "markdown",
   "id": "guilty-scroll",
   "metadata": {},
   "source": [
    "## Limiting the \"active\" data"
   ]
  },
  {
   "cell_type": "code",
   "execution_count": 10,
   "id": "wicked-hawaii",
   "metadata": {},
   "outputs": [
    {
     "data": {
      "text/plain": [
       "3991"
      ]
     },
     "execution_count": 10,
     "metadata": {},
     "output_type": "execute_result"
    }
   ],
   "source": [
    "# Let's say you're only interested in a subset of the data, i.e., \n",
    "# you want to limit the data so that you're only looking at sources \n",
    "# between certain latitude, longitude, and altitude ranges\n",
    "cnt = lma.limit(lat=[34.5, 34.6], lon=[-87.7, -87.5], alt=[0, 25])  # altitude is in km\n",
    "cnt  # should be 5750"
   ]
  },
  {
   "cell_type": "code",
   "execution_count": 11,
   "id": "rising-charger",
   "metadata": {},
   "outputs": [
    {
     "data": {
      "text/plain": [
       "(3991,\n",
       " array([34.51509 , 34.55022 , 34.507622, ..., 34.559496, 34.524649,\n",
       "        34.506413]))"
      ]
     },
     "execution_count": 11,
     "metadata": {},
     "output_type": "execute_result"
    }
   ],
   "source": [
    "# The limiting of the data doesn't actually get rid of anything. What we do is\n",
    "# mark the data within the limits as \"active\". All data retrieval\n",
    "# is relative to the \"active\" data:\n",
    "lma.count, lma.lat"
   ]
  },
  {
   "cell_type": "code",
   "execution_count": 12,
   "id": "dominant-shock",
   "metadata": {},
   "outputs": [
    {
     "data": {
      "text/html": [
       "<div>\n",
       "<style scoped>\n",
       "    .dataframe tbody tr th:only-of-type {\n",
       "        vertical-align: middle;\n",
       "    }\n",
       "\n",
       "    .dataframe tbody tr th {\n",
       "        vertical-align: top;\n",
       "    }\n",
       "\n",
       "    .dataframe thead th {\n",
       "        text-align: right;\n",
       "    }\n",
       "</style>\n",
       "<table border=\"1\" class=\"dataframe\">\n",
       "  <thead>\n",
       "    <tr style=\"text-align: right;\">\n",
       "      <th></th>\n",
       "      <th>time</th>\n",
       "      <th>lat</th>\n",
       "      <th>lon</th>\n",
       "      <th>alt</th>\n",
       "      <th>chi2</th>\n",
       "      <th>power</th>\n",
       "      <th>mask</th>\n",
       "      <th>active</th>\n",
       "    </tr>\n",
       "  </thead>\n",
       "  <tbody>\n",
       "    <tr>\n",
       "      <th>19192</th>\n",
       "      <td>2017-04-27 07:00:54.619049966</td>\n",
       "      <td>34.515090</td>\n",
       "      <td>-87.543687</td>\n",
       "      <td>19.7816</td>\n",
       "      <td>1.89</td>\n",
       "      <td>21.6</td>\n",
       "      <td>e0620</td>\n",
       "      <td>True</td>\n",
       "    </tr>\n",
       "    <tr>\n",
       "      <th>79997</th>\n",
       "      <td>2017-04-27 07:03:01.556204442</td>\n",
       "      <td>34.550220</td>\n",
       "      <td>-87.558220</td>\n",
       "      <td>8.8169</td>\n",
       "      <td>0.26</td>\n",
       "      <td>18.2</td>\n",
       "      <td>e0888</td>\n",
       "      <td>True</td>\n",
       "    </tr>\n",
       "    <tr>\n",
       "      <th>80323</th>\n",
       "      <td>2017-04-27 07:03:01.613325797</td>\n",
       "      <td>34.507622</td>\n",
       "      <td>-87.518014</td>\n",
       "      <td>9.5101</td>\n",
       "      <td>0.67</td>\n",
       "      <td>6.6</td>\n",
       "      <td>60b01</td>\n",
       "      <td>True</td>\n",
       "    </tr>\n",
       "    <tr>\n",
       "      <th>89607</th>\n",
       "      <td>2017-04-27 07:03:22.341039941</td>\n",
       "      <td>34.557817</td>\n",
       "      <td>-87.647733</td>\n",
       "      <td>10.0176</td>\n",
       "      <td>1.29</td>\n",
       "      <td>13.1</td>\n",
       "      <td>c0838</td>\n",
       "      <td>True</td>\n",
       "    </tr>\n",
       "    <tr>\n",
       "      <th>125827</th>\n",
       "      <td>2017-04-27 07:04:43.166331421</td>\n",
       "      <td>34.513161</td>\n",
       "      <td>-87.514435</td>\n",
       "      <td>23.1899</td>\n",
       "      <td>0.18</td>\n",
       "      <td>10.0</td>\n",
       "      <td>e0141</td>\n",
       "      <td>True</td>\n",
       "    </tr>\n",
       "    <tr>\n",
       "      <th>217910</th>\n",
       "      <td>2017-04-27 07:07:00.463361328</td>\n",
       "      <td>34.507957</td>\n",
       "      <td>-87.651415</td>\n",
       "      <td>12.7117</td>\n",
       "      <td>0.70</td>\n",
       "      <td>19.1</td>\n",
       "      <td>a0560</td>\n",
       "      <td>True</td>\n",
       "    </tr>\n",
       "    <tr>\n",
       "      <th>222909</th>\n",
       "      <td>2017-04-27 07:07:12.144781901</td>\n",
       "      <td>34.546580</td>\n",
       "      <td>-87.574533</td>\n",
       "      <td>12.9629</td>\n",
       "      <td>1.71</td>\n",
       "      <td>9.3</td>\n",
       "      <td>083b</td>\n",
       "      <td>True</td>\n",
       "    </tr>\n",
       "    <tr>\n",
       "      <th>238061</th>\n",
       "      <td>2017-04-27 07:07:45.979414027</td>\n",
       "      <td>34.502196</td>\n",
       "      <td>-87.665290</td>\n",
       "      <td>15.4229</td>\n",
       "      <td>0.37</td>\n",
       "      <td>20.5</td>\n",
       "      <td>c05c0</td>\n",
       "      <td>True</td>\n",
       "    </tr>\n",
       "    <tr>\n",
       "      <th>238834</th>\n",
       "      <td>2017-04-27 07:07:46.169049951</td>\n",
       "      <td>34.502966</td>\n",
       "      <td>-87.657740</td>\n",
       "      <td>6.8255</td>\n",
       "      <td>0.84</td>\n",
       "      <td>13.2</td>\n",
       "      <td>201e1</td>\n",
       "      <td>True</td>\n",
       "    </tr>\n",
       "  </tbody>\n",
       "</table>\n",
       "</div>"
      ],
      "text/plain": [
       "                                time        lat        lon      alt  chi2  \\\n",
       "19192  2017-04-27 07:00:54.619049966  34.515090 -87.543687  19.7816  1.89   \n",
       "79997  2017-04-27 07:03:01.556204442  34.550220 -87.558220   8.8169  0.26   \n",
       "80323  2017-04-27 07:03:01.613325797  34.507622 -87.518014   9.5101  0.67   \n",
       "89607  2017-04-27 07:03:22.341039941  34.557817 -87.647733  10.0176  1.29   \n",
       "125827 2017-04-27 07:04:43.166331421  34.513161 -87.514435  23.1899  0.18   \n",
       "217910 2017-04-27 07:07:00.463361328  34.507957 -87.651415  12.7117  0.70   \n",
       "222909 2017-04-27 07:07:12.144781901  34.546580 -87.574533  12.9629  1.71   \n",
       "238061 2017-04-27 07:07:45.979414027  34.502196 -87.665290  15.4229  0.37   \n",
       "238834 2017-04-27 07:07:46.169049951  34.502966 -87.657740   6.8255  0.84   \n",
       "\n",
       "        power   mask  active  \n",
       "19192    21.6  e0620    True  \n",
       "79997    18.2  e0888    True  \n",
       "80323     6.6  60b01    True  \n",
       "89607    13.1  c0838    True  \n",
       "125827   10.0  e0141    True  \n",
       "217910   19.1  a0560    True  \n",
       "222909    9.3   083b    True  \n",
       "238061   20.5  c05c0    True  \n",
       "238834   13.2  201e1    True  "
      ]
     },
     "execution_count": 12,
     "metadata": {},
     "output_type": "execute_result"
    }
   ],
   "source": [
    "# Ditto for indexing:\n",
    "lma[0:9]"
   ]
  },
  {
   "cell_type": "markdown",
   "id": "therapeutic-provider",
   "metadata": {},
   "source": [
    "## Plotting"
   ]
  },
  {
   "cell_type": "code",
   "execution_count": 13,
   "id": "demographic-charlotte",
   "metadata": {},
   "outputs": [
    {
     "data": {
      "image/png": "[encoded data removed]",
      "text/plain": [
       "<Figure size 432x288 with 1 Axes>"
      ]
     },
     "metadata": {
      "needs_background": "light"
     },
     "output_type": "display_data"
    }
   ],
   "source": [
    "# With this, it's easy to make some plots (we'll just do basic plots, not maps):\n",
    "fig, ax = plt.subplots() \n",
    "_ = ax.scatter(lma.lon, lma.lat, marker='.')\n",
    "\n",
    "# Of course, you do fancier things, like density plots. But we'll\n",
    "# save that as an exercise for the reader ;-)"
   ]
  },
  {
   "cell_type": "code",
   "execution_count": 14,
   "id": "light-victory",
   "metadata": {},
   "outputs": [
    {
     "data": {
      "image/png": "[encoded data removed]",
      "text/plain": [
       "<Figure size 432x288 with 1 Axes>"
      ]
     },
     "metadata": {
      "needs_background": "light"
     },
     "output_type": "display_data"
    }
   ],
   "source": [
    "# If you ever need to get all the data after limiting, you can via the underlying data.\n",
    "# Remember, we don't throw anything out.\n",
    "\n",
    "# (This might take a moment - we're going to scatter plot >1.6 million points!)\n",
    "fig, ax = plt.subplots() \n",
    "_ = ax.scatter(lma.data.lon, lma.data.lat, marker='.')  # all the data\n",
    "_ = ax.scatter(lma.lon, lma.lat, marker='.')  # the data within limits\n"
   ]
  },
  {
   "cell_type": "code",
   "execution_count": 15,
   "id": "quick-mattress",
   "metadata": {},
   "outputs": [
    {
     "data": {
      "text/plain": [
       "1639279"
      ]
     },
     "execution_count": 15,
     "metadata": {},
     "output_type": "execute_result"
    }
   ],
   "source": [
    "# Let's say you want reset the active data. Easy peasy:\n",
    "lma.reset_active()\n",
    "lma.count"
   ]
  },
  {
   "cell_type": "markdown",
   "id": "olympic-trailer",
   "metadata": {},
   "source": [
    "### Plotting times"
   ]
  },
  {
   "cell_type": "code",
   "execution_count": 16,
   "id": "answering-uzbekistan",
   "metadata": {},
   "outputs": [
    {
     "data": {
      "text/plain": [
       "95939"
      ]
     },
     "execution_count": 16,
     "metadata": {},
     "output_type": "execute_result"
    }
   ],
   "source": [
    "# Now, let's limit again, but focus on a 3 minute period:\n",
    "t0 = np.datetime64('2017-04-27T07:10:00', 'ns')\n",
    "t1 = np.datetime64('2017-04-27T07:13:00', 'ns')\n",
    "\n",
    "# An important note is that the time limits need to be np.datetime64[ns] (the units are important!)\n",
    "cnt = lma.limit(time=[t0, t1], alt=[0, 25])  # Go ahead and limit altitude too!\n",
    "cnt"
   ]
  },
  {
   "cell_type": "code",
   "execution_count": 17,
   "id": "reflected-japan",
   "metadata": {},
   "outputs": [
    {
     "data": {
      "image/png": "[encoded data removed]",
      "text/plain": [
       "<Figure size 432x288 with 1 Axes>"
      ]
     },
     "metadata": {
      "needs_background": "light"
     },
     "output_type": "display_data"
    }
   ],
   "source": [
    "# Making a time plot with Matplotlib is, um, let's say problematic. Especially when\n",
    "# dealing with data like this that spans less than a day. The `pytlg` package provides \n",
    "# a way to make plots a little easier. \n",
    "\n",
    "# But, we still rely on Matplotlib, and it doesn't handle np.datetime very well in general.\n",
    "# So, we'll cast it to an 64 bit integer. Alternatively, you can cast to a datetime.date.\n",
    "# See https://matplotlib.org/3.1.1/gallery/recipes/common_date_problems.html\n",
    "\n",
    "from pyltg.utilities import plotting as ltg_plt\n",
    "\n",
    "fig, ax = plt.subplots()\n",
    "_ = ax.scatter(lma.time.astype('int64'), lma.alt, marker='.')\n",
    "ltg_plt.time_axis(ax.xaxis)\n",
    "_ = ax.set_ylabel('Altitude (km)')\n"
   ]
  },
  {
   "cell_type": "markdown",
   "id": "american-windows",
   "metadata": {},
   "source": [
    "## Manipulating the data\n",
    "\n",
    "Basically, you shouldn't do this! But if you try, you won't get the expected results."
   ]
  },
  {
   "cell_type": "code",
   "execution_count": 18,
   "id": "enclosed-people",
   "metadata": {},
   "outputs": [
    {
     "data": {
      "text/plain": [
       "time      2017-04-27 07:10:00.000181658\n",
       "lat                             34.3896\n",
       "lon                            -86.8942\n",
       "alt                              5.4158\n",
       "chi2                               0.92\n",
       "power                              -3.8\n",
       "mask                              e02a0\n",
       "active                             True\n",
       "Name: 303013, dtype: object"
      ]
     },
     "execution_count": 18,
     "metadata": {},
     "output_type": "execute_result"
    }
   ],
   "source": [
    "lma[0].lat = 34.0\n",
    "lma[0]  # Silently ignored"
   ]
  },
  {
   "cell_type": "code",
   "execution_count": 19,
   "id": "passive-medication",
   "metadata": {},
   "outputs": [
    {
     "data": {
      "text/plain": [
       "time      2017-04-27 07:10:00.000181658\n",
       "lat                             34.3896\n",
       "lon                            -86.8942\n",
       "alt                              5.4158\n",
       "chi2                               0.92\n",
       "power                              -3.8\n",
       "mask                              e02a0\n",
       "active                             True\n",
       "Name: 303013, dtype: object"
      ]
     },
     "execution_count": 19,
     "metadata": {},
     "output_type": "execute_result"
    }
   ],
   "source": [
    "lma.lat[0] = 34.0\n",
    "lma[0]  # Also silently ignored"
   ]
  },
  {
   "cell_type": "code",
   "execution_count": 20,
   "id": "extraordinary-egyptian",
   "metadata": {},
   "outputs": [],
   "source": [
    "# If you want to do something with the data, you'll have to get it \"out\" of the class:\n",
    "ltg_data = lma.get_active()  # returns a copy of the data, as a Pandas Dataframe"
   ]
  },
  {
   "cell_type": "code",
   "execution_count": 22,
   "id": "crucial-abortion",
   "metadata": {},
   "outputs": [],
   "source": [
    "# Because it's a Dataframe, you won't be able to do this anymore:\n",
    "# ltg_data[0]\n",
    "\n",
    "# But you can manipulate it like you would any Dataframe:\n",
    "ltg_data.loc[0, 'lat'] = 34.0\n",
    "ltg_data.lat[0]"
   ]
  }
 ],
 "metadata": {
  "kernelspec": {
   "display_name": "Python 3",
   "language": "python",
   "name": "python3"
  },
  "language_info": {
   "codemirror_mode": {
    "name": "ipython",
    "version": 3
   },
   "file_extension": ".py",
   "mimetype": "text/x-python",
   "name": "python",
   "nbconvert_exporter": "python",
   "pygments_lexer": "ipython3",
   "version": "3.6.12"
  }
 },
 "nbformat": 4,
 "nbformat_minor": 5
}
